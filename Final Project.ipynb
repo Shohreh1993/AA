{
 "cells": [
  {
   "cell_type": "markdown",
   "id": "343be69c-c7b8-40d3-938f-ceb0c2fdcf3e",
   "metadata": {},
   "source": [
    "# Final Project"
   ]
  },
  {
   "cell_type": "markdown",
   "id": "aff88507-5dca-46bd-805b-fac72b6ecb82",
   "metadata": {},
   "source": [
    "Tools for data science"
   ]
  },
  {
   "cell_type": "markdown",
   "id": "e09499ae-4b3b-48fe-b12a-84c01ab19987",
   "metadata": {},
   "source": [
    "Python\n",
    "R\n",
    "SQL\n",
    "Java\n",
    "Julia\n",
    "Matlab\n",
    "Scala"
   ]
  },
  {
   "cell_type": "markdown",
   "id": "4d1e3931-7ceb-40b5-b617-0297524b4dea",
   "metadata": {},
   "source": [
    "Numpy\n",
    "Pandas\n",
    "Scikit-learn\n",
    "Matplotlib\n",
    "Seaborn\n",
    "TensorFlow"
   ]
  },
  {
   "cell_type": "markdown",
   "id": "b577f12d-6084-48ab-8905-4e9136799af7",
   "metadata": {},
   "source": [
    "Jupyter Notebook\n",
    "Rstudio\n",
    "VisualStudio \n",
    "Apache Spark\n",
    "Google Colab"
   ]
  },
  {
   "cell_type": "markdown",
   "id": "248b4ec0-a2ae-44cf-b6a7-1946eefa324d",
   "metadata": {
    "tags": []
   },
   "source": [
    "## Arithmetic Expression Examples"
   ]
  },
  {
   "cell_type": "markdown",
   "id": "6bc866e3-3ab5-415a-844c-0bab096e89c2",
   "metadata": {},
   "source": [
    "Arithmetic expressions are mathematical statements that combine numbers and operators such as addition (+), subtraction (−), multiplication (×), and division (÷). They are used to perform calculations and solve numerical problems in Python and other programming languages."
   ]
  },
  {
   "cell_type": "code",
   "execution_count": 2,
   "id": "cec3a637-5953-4250-a1f5-10b14e42470a",
   "metadata": {},
   "outputs": [
    {
     "name": "stdout",
     "output_type": "stream",
     "text": [
      "sum= 6\n",
      "multiply= 12\n"
     ]
    }
   ],
   "source": [
    "a = 2\n",
    "b = 4\n",
    "c= a+b\n",
    "d = c*a\n",
    "print(\"sum=\", c)\n",
    "print(\"multiply=\", d)"
   ]
  },
  {
   "cell_type": "code",
   "execution_count": 7,
   "id": "d85cc24c-f79e-4c97-b839-83f31eba0a44",
   "metadata": {},
   "outputs": [
    {
     "name": "stdout",
     "output_type": "stream",
     "text": [
      "120 minutes is 2.0 hours\n"
     ]
    }
   ],
   "source": [
    "e = 120\n",
    "f = e/60\n",
    "print (f\"{e} minutes is {f} hours\")"
   ]
  },
  {
   "cell_type": "markdown",
   "id": "dfcf5b3c-292c-481d-bda7-161641bbc757",
   "metadata": {},
   "source": [
    "## Objectives  \n",
    "\n",
    "The objectives of this notebook are:  \n",
    "\n",
    "- Understand and practice basic Markdown formatting.  \n",
    "- Learn how to create and use Python data science tools.  \n",
    "- Perform simple arithmetic operations and expressions in Python."
   ]
  },
  {
   "cell_type": "markdown",
   "id": "a72a027c-8d97-48b8-a191-7cdbfca0ef86",
   "metadata": {},
   "source": [
    "# Shohreh Moradi"
   ]
  },
  {
   "cell_type": "code",
   "execution_count": null,
   "id": "ffd58b9a-3d59-4932-845a-810ff8bcfffe",
   "metadata": {},
   "outputs": [],
   "source": []
  }
 ],
 "metadata": {
  "kernelspec": {
   "display_name": "Python 3 (ipykernel)",
   "language": "python",
   "name": "python3"
  },
  "language_info": {
   "codemirror_mode": {
    "name": "ipython",
    "version": 3
   },
   "file_extension": ".py",
   "mimetype": "text/x-python",
   "name": "python",
   "nbconvert_exporter": "python",
   "pygments_lexer": "ipython3",
   "version": "3.10.9"
  }
 },
 "nbformat": 4,
 "nbformat_minor": 5
}
